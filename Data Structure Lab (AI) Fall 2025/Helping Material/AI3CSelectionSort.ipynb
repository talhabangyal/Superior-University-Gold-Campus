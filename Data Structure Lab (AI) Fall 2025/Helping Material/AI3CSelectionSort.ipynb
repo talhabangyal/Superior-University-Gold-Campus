{
 "cells": [
  {
   "cell_type": "code",
   "execution_count": 4,
   "id": "35a7b3e5-21fa-427a-82c4-af73cf196176",
   "metadata": {},
   "outputs": [],
   "source": [
    "arr=[5,4,1,2,3]\n",
    "[1,4,3,2,5]"
   ]
  },
  {
   "cell_type": "code",
   "execution_count": 8,
   "id": "74bbf4dd-8c73-468d-8e37-27623bba67c4",
   "metadata": {},
   "outputs": [],
   "source": [
    "def SelectionSort(arr):\n",
    "    n = len(arr)\n",
    "    for i in range(n-1):\n",
    "        min_index = i\n",
    "        for j in range(i+1,n):\n",
    "            if arr[j]<arr[min_index]:\n",
    "                min_index = j\n",
    "        if min_index!=i:\n",
    "            arr[min_index],arr[i] = arr[i],arr[min_index]\n",
    "    return arr"
   ]
  },
  {
   "cell_type": "code",
   "execution_count": 9,
   "id": "f1cbab45-6174-4640-af4e-c05fae6d0666",
   "metadata": {},
   "outputs": [
    {
     "data": {
      "text/plain": [
       "[1, 2, 3, 4, 5]"
      ]
     },
     "execution_count": 9,
     "metadata": {},
     "output_type": "execute_result"
    }
   ],
   "source": [
    "SelectionSort(arr)"
   ]
  },
  {
   "cell_type": "code",
   "execution_count": null,
   "id": "d7ec38f2-ab98-4fd9-a331-3ce84daff4dd",
   "metadata": {},
   "outputs": [],
   "source": []
  }
 ],
 "metadata": {
  "kernelspec": {
   "display_name": "Python 3 (ipykernel)",
   "language": "python",
   "name": "python3"
  },
  "language_info": {
   "codemirror_mode": {
    "name": "ipython",
    "version": 3
   },
   "file_extension": ".py",
   "mimetype": "text/x-python",
   "name": "python",
   "nbconvert_exporter": "python",
   "pygments_lexer": "ipython3",
   "version": "3.12.4"
  }
 },
 "nbformat": 4,
 "nbformat_minor": 5
}

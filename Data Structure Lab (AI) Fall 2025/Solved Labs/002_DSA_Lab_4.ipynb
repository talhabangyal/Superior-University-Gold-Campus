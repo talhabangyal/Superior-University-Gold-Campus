{
 "cells": [
  {
   "cell_type": "markdown",
   "id": "9e44df50-0c9c-4f4a-945d-dd5e03066e2e",
   "metadata": {},
   "source": [
    "# Task 1"
   ]
  },
  {
   "cell_type": "code",
   "execution_count": 43,
   "id": "81aa6e9c-b7c7-4ab5-9b38-cc9bb2b38c8f",
   "metadata": {},
   "outputs": [],
   "source": [
    "def selection_sort(arr):\n",
    "    cmp = 0\n",
    "    swp = 0\n",
    "    n = len(arr)\n",
    "    \n",
    "    for i in range(n - 1):\n",
    "        min_index = i\n",
    "        for j in range(i + 1, n):\n",
    "            cmp += 1\n",
    "            if arr[j] < arr[min_index]:\n",
    "                min_index = j\n",
    "        if min_index != i:\n",
    "            arr[i], arr[min_index] = arr[min_index], arr[i]\n",
    "            swp += 1\n",
    "            \n",
    "    print(\"Compare count is:\", cmp)\n",
    "    print(\"Swap count is:\", swp)\n",
    "    return arr"
   ]
  },
  {
   "cell_type": "code",
   "execution_count": 44,
   "id": "6d4fdf93-6c54-41f4-9a3a-1d6987efd487",
   "metadata": {},
   "outputs": [
    {
     "name": "stdout",
     "output_type": "stream",
     "text": [
      "Compare count is: 15\n",
      "Swap count is: 3\n",
      "Output of random array using selection sort:  [0, 2, 3, 6, 9, 10]\n"
     ]
    }
   ],
   "source": [
    "random_arr=[9,2,6,10,0,3]\n",
    "\n",
    "out=selection_sort(random_arr)\n",
    "print(\"Output of random array using selection sort: \",out)"
   ]
  },
  {
   "cell_type": "markdown",
   "id": "d166e90b-fc63-4499-8b62-5378e583d4a9",
   "metadata": {},
   "source": [
    "# Task 2"
   ]
  },
  {
   "cell_type": "code",
   "execution_count": 45,
   "id": "cdf27c5a-d67c-4f7f-afba-1086bd2d816b",
   "metadata": {},
   "outputs": [],
   "source": [
    "def selection_sort(arr):\n",
    "    cmp = 0\n",
    "    swp = 0\n",
    "    n = len(arr)\n",
    "    \n",
    "    for i in range(n - 1):\n",
    "        min_index = i\n",
    "        for j in range(i + 1, n):\n",
    "            cmp += 1\n",
    "            if arr[j] < arr[min_index]:\n",
    "                min_index = j\n",
    "        if min_index != i:\n",
    "            arr[i], arr[min_index] = arr[min_index], arr[i]\n",
    "            swp += 1\n",
    "            \n",
    "    print(\"Compare count is:\", cmp)\n",
    "    print(\"Swap count is:\", swp)\n",
    "    return arr\n",
    "\n",
    "def bubble_sort(arr):\n",
    "    cmp = 0\n",
    "    swp = 0\n",
    "    n = len(arr)\n",
    "    \n",
    "    for i in range(n-1):\n",
    "        for j in range(0, n - i - 1):\n",
    "            cmp += 1\n",
    "            if arr[j] > arr[j + 1]:\n",
    "                arr[j], arr[j + 1] = arr[j + 1], arr[j]\n",
    "            swp += 1\n",
    "            \n",
    "    print(\"Compare count is:\", cmp)\n",
    "    print(\"Swap count is:\", swp)\n",
    "    return arr"
   ]
  },
  {
   "cell_type": "code",
   "execution_count": 46,
   "id": "f7ec29ab-6c64-4448-9ad9-3f5255b55c43",
   "metadata": {},
   "outputs": [
    {
     "name": "stdout",
     "output_type": "stream",
     "text": [
      "Compare count is: 6\n",
      "Swap count is: 6\n",
      "Output of Sorted array using bubble sort:  [1, 4, 5, 6] \n",
      "\n",
      "Compare count is: 6\n",
      "Swap count is: 0\n",
      "Output of Sorted array using selection sort:  [1, 4, 5, 6] \n",
      "\n",
      "Compare count is: 15\n",
      "Swap count is: 15\n",
      "Output of reverse Sorted array using bubble sort:  [1, 2, 3, 4, 5, 6] \n",
      "\n",
      "Compare count is: 15\n",
      "Swap count is: 0\n",
      "Output of reverse Sorted array using selection sort:  [1, 2, 3, 4, 5, 6] \n",
      "\n",
      "Compare count is: 15\n",
      "Swap count is: 15\n",
      "Output of random array using bubble sort:  [0, 2, 3, 6, 9, 10]\n",
      "Compare count is: 15\n",
      "Swap count is: 0\n",
      "Output of random array using selection sort:  [0, 2, 3, 6, 9, 10]\n"
     ]
    }
   ],
   "source": [
    "sorted_arr=[1,4,5,6]\n",
    "reverse_sorted_arr=[6,5,4,3,2,1]\n",
    "random_arr=[9,2,6,10,0,3]\n",
    "\n",
    "out1=bubble_sort(sorted_arr)\n",
    "print(\"Output of Sorted array using bubble sort: \",out1, \"\\n\")\n",
    "\n",
    "out1=selection_sort(sorted_arr)\n",
    "print(\"Output of Sorted array using selection sort: \",out1, \"\\n\")\n",
    "\n",
    "out2=bubble_sort(reverse_sorted_arr)\n",
    "print(\"Output of reverse Sorted array using bubble sort: \",out2, \"\\n\")\n",
    "\n",
    "out2=selection_sort(reverse_sorted_arr)\n",
    "print(\"Output of reverse Sorted array using selection sort: \",out2, \"\\n\")\n",
    "\n",
    "out3=bubble_sort(random_arr)\n",
    "print(\"Output of random array using bubble sort: \",out3)\n",
    "\n",
    "out3=selection_sort(random_arr)\n",
    "print(\"Output of random array using selection sort: \",out3)"
   ]
  },
  {
   "cell_type": "markdown",
   "id": "8879d610-de21-4395-9226-2e2c455e383c",
   "metadata": {},
   "source": [
    "# Task 3"
   ]
  },
  {
   "cell_type": "code",
   "execution_count": 40,
   "id": "5c9c0d3c-afb5-4a2b-958b-4d1242261582",
   "metadata": {},
   "outputs": [],
   "source": [
    "def selection_sort_ascending(arr):\n",
    "    comparisons = 0\n",
    "    swaps = 0\n",
    "    iterations = 0\n",
    "    n = len(arr)\n",
    "    \n",
    "    for i in range(n - 1):\n",
    "        iterations += 1\n",
    "        min_index = i\n",
    "        for j in range(i + 1, n):\n",
    "            comparisons += 1\n",
    "            if arr[j] < arr[min_index]:\n",
    "                min_index = j\n",
    "        if min_index != i:\n",
    "            arr[i], arr[min_index] = arr[min_index], arr[i]\n",
    "            swaps += 1\n",
    "            \n",
    "    print(\"\\nSelection Sort (Ascending):\")\n",
    "    print(\"Iterations:\", iterations)\n",
    "    print(\"Comparisons:\", comparisons)\n",
    "    print(\"Swaps:\", swaps)\n",
    "    return arr\n",
    "\n",
    "def selection_sort_descending(arr):\n",
    "    comparisons = 0\n",
    "    swaps = 0\n",
    "    iterations = 0\n",
    "    n = len(arr)\n",
    "    \n",
    "    for i in range(n - 1):\n",
    "        iterations += 1\n",
    "        max_index = i\n",
    "        for j in range(i + 1, n):\n",
    "            comparisons += 1\n",
    "            if arr[j] > arr[max_index]:\n",
    "                max_index = j\n",
    "        if max_index != i:\n",
    "            arr[i], arr[max_index] = arr[max_index], arr[i]\n",
    "            swaps += 1\n",
    "            \n",
    "    print(\"\\nSelection Sort (Descending):\")\n",
    "    print(\"Iterations:\", iterations)\n",
    "    print(\"Comparisons:\", comparisons)\n",
    "    print(\"Swaps:\", swaps)\n",
    "    return arr"
   ]
  },
  {
   "cell_type": "code",
   "execution_count": 42,
   "id": "d2ed45f2-1f57-4d8b-b8cd-539440dc818c",
   "metadata": {},
   "outputs": [
    {
     "name": "stdout",
     "output_type": "stream",
     "text": [
      "\n",
      "Selection Sort (Ascending):\n",
      "Iterations: 5\n",
      "Comparisons: 15\n",
      "Swaps: 3\n",
      "Output of random array using selection sort (Ascending):  [0, 2, 3, 6, 9, 10]\n",
      "\n",
      "Selection Sort (Descending):\n",
      "Iterations: 5\n",
      "Comparisons: 15\n",
      "Swaps: 3\n",
      "Output of random array using selection sort (Descending):  [10, 9, 6, 3, 2, 0]\n"
     ]
    }
   ],
   "source": [
    "random_arr=[9,2,6,10,0,3]\n",
    "\n",
    "out=selection_sort_ascending(random_arr)\n",
    "print(\"Output of random array using selection sort (Ascending): \",out)\n",
    "\n",
    "out=selection_sort_descending(random_arr)\n",
    "print(\"Output of random array using selection sort (Descending): \",out)"
   ]
  },
  {
   "cell_type": "code",
   "execution_count": 37,
   "id": "60d2d7ae-a7fe-49d7-b024-7971a89b0138",
   "metadata": {},
   "outputs": [],
   "source": [
    "def hybrid_selection_sort(arr):\n",
    "    comparisons = 0\n",
    "    swaps = 0\n",
    "    iterations = 0\n",
    "    n = len(arr)\n",
    "\n",
    "    for i in range(n // 2):\n",
    "        iterations += 1\n",
    "        min_index = i\n",
    "        max_index = i\n",
    "\n",
    "        for j in range(i, n - i):\n",
    "            comparisons += 1\n",
    "            if arr[j] < arr[min_index]:\n",
    "                min_index = j\n",
    "            comparisons += 1\n",
    "            if arr[j] > arr[max_index]:\n",
    "                max_index = j\n",
    "\n",
    "        if min_index != i:\n",
    "            arr[i], arr[min_index] = arr[min_index], arr[i]\n",
    "            swaps += 1\n",
    "            if max_index == i:\n",
    "                max_index = min_index\n",
    "\n",
    "        if max_index != n - i - 1:\n",
    "            arr[n - i - 1], arr[max_index] = arr[max_index], arr[n - i - 1]\n",
    "            swaps += 1\n",
    "\n",
    "    print(\"Hybrid Selection Sort:\")\n",
    "    print(\"Iterations:\", iterations)\n",
    "    print(\"Comparisons:\", comparisons)\n",
    "    print(\"Swaps:\", swaps)\n",
    "    return arr"
   ]
  },
  {
   "cell_type": "code",
   "execution_count": 38,
   "id": "59ebee28-9da3-4abb-9f5d-790b8e91fb0e",
   "metadata": {},
   "outputs": [
    {
     "name": "stdout",
     "output_type": "stream",
     "text": [
      "Hybrid Selection Sort:\n",
      "Iterations: 3\n",
      "Comparisons: 24\n",
      "Swaps: 3\n",
      "Output of random array using selection sort:  [0, 2, 3, 6, 9, 10]\n"
     ]
    }
   ],
   "source": [
    "random_arr=[9,2,6,10,0,3]\n",
    "\n",
    "out=hybrid_selection_sort(random_arr)\n",
    "print(\"Output of random array using selection sort: \",out)"
   ]
  },
  {
   "cell_type": "code",
   "execution_count": null,
   "id": "28c52c53-7278-4e45-ab8a-657daa7e3a9d",
   "metadata": {},
   "outputs": [],
   "source": []
  }
 ],
 "metadata": {
  "kernelspec": {
   "display_name": "Python 3 (ipykernel)",
   "language": "python",
   "name": "python3"
  },
  "language_info": {
   "codemirror_mode": {
    "name": "ipython",
    "version": 3
   },
   "file_extension": ".py",
   "mimetype": "text/x-python",
   "name": "python",
   "nbconvert_exporter": "python",
   "pygments_lexer": "ipython3",
   "version": "3.12.4"
  }
 },
 "nbformat": 4,
 "nbformat_minor": 5
}

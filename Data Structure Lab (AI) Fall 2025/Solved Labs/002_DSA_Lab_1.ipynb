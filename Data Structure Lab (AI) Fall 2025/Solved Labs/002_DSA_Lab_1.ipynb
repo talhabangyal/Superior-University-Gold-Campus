{
 "cells": [
  {
   "cell_type": "markdown",
   "id": "8099af27-71e6-4788-bf8e-8b6564e18d9a",
   "metadata": {},
   "source": [
    "# Task 1"
   ]
  },
  {
   "cell_type": "code",
   "execution_count": 7,
   "id": "21c5a604-0f4d-4d48-b4cf-3fbda594c70a",
   "metadata": {},
   "outputs": [
    {
     "name": "stdout",
     "output_type": "stream",
     "text": [
      "The output is: [30, 20, 48, 48, 96]\n"
     ]
    }
   ],
   "source": [
    "def product(arr):\n",
    "    result = []\n",
    "    n = len(arr)\n",
    "\n",
    "    for i in range(n):\n",
    "        if i == 0:\n",
    "            value = arr[0] * arr[1]\n",
    "        elif i == n - 1:\n",
    "            value = arr[n - 1] * arr[n - 2]\n",
    "        else:\n",
    "            value = arr[i - 1] * arr[i + 1]\n",
    "\n",
    "        result.append(value)\n",
    "\n",
    "    return result\n",
    "\n",
    "array = [5, 6, 4, 8, 12]\n",
    "print(\"The output is:\", product(array))"
   ]
  },
  {
   "cell_type": "markdown",
   "id": "c298de88-d8ab-473e-9ceb-8984d97b706c",
   "metadata": {},
   "source": [
    "# Task 2"
   ]
  },
  {
   "cell_type": "code",
   "execution_count": 10,
   "id": "e0eac569-199a-4bd6-875d-8906557d5cbd",
   "metadata": {},
   "outputs": [
    {
     "name": "stdout",
     "output_type": "stream",
     "text": [
      "The distance between 2 and 10 is:  6\n"
     ]
    }
   ],
   "source": [
    "def find_distance(arr, a, b):\n",
    "    for i in range(len(arr)):\n",
    "        if arr[i] == a:\n",
    "            index_a = i\n",
    "            break\n",
    "\n",
    "    for j in range(len(arr)):\n",
    "        if arr[j] == b:\n",
    "            index_b = j\n",
    "            break\n",
    "\n",
    "    if index_a > index_b:\n",
    "        return index_a - index_b\n",
    "    else:\n",
    "        return index_b - index_a\n",
    "\n",
    "array = [2, 5, 3, 5, 4, 8, 10, 3]\n",
    "print(\"The distance between 2 and 10 is: \",find_distance(array, 2, 10))"
   ]
  },
  {
   "cell_type": "markdown",
   "id": "89cd8fdc-188e-4c79-9096-5733c61f040a",
   "metadata": {},
   "source": [
    "# Task 3"
   ]
  },
  {
   "cell_type": "code",
   "execution_count": 9,
   "id": "e18afa81-f116-4015-be01-495b54387216",
   "metadata": {},
   "outputs": [
    {
     "name": "stdout",
     "output_type": "stream",
     "text": [
      "Binary of 10 is : 1010\n",
      "Binary of 37 is : 100101\n",
      "Binary of 48 is : 110000\n"
     ]
    }
   ],
   "source": [
    "def decimal_to_binary(n):\n",
    "    binary = \"\"\n",
    "    while n > 0:\n",
    "        rem = n % 2\n",
    "        binary = str(rem) + binary\n",
    "        n = n // 2\n",
    "    return binary\n",
    "\n",
    "print(f\"Binary of 10 is : {decimal_to_binary(10)}\")\n",
    "print(f\"Binary of 37 is : {decimal_to_binary(37)}\")\n",
    "print(f\"Binary of 48 is : {decimal_to_binary(48)}\")"
   ]
  },
  {
   "cell_type": "code",
   "execution_count": null,
   "id": "00581c91-fd7b-4efe-bc54-6223a5a89109",
   "metadata": {},
   "outputs": [],
   "source": []
  }
 ],
 "metadata": {
  "kernelspec": {
   "display_name": "Python 3 (ipykernel)",
   "language": "python",
   "name": "python3"
  },
  "language_info": {
   "codemirror_mode": {
    "name": "ipython",
    "version": 3
   },
   "file_extension": ".py",
   "mimetype": "text/x-python",
   "name": "python",
   "nbconvert_exporter": "python",
   "pygments_lexer": "ipython3",
   "version": "3.12.4"
  }
 },
 "nbformat": 4,
 "nbformat_minor": 5
}

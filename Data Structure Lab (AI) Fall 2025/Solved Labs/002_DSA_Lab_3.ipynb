{
 "cells": [
  {
   "cell_type": "markdown",
   "id": "ea15b9a1",
   "metadata": {},
   "source": [
    "# Task 1"
   ]
  },
  {
   "cell_type": "code",
   "execution_count": 76,
   "id": "cf97cd5b",
   "metadata": {},
   "outputs": [],
   "source": [
    "def bubble_sort_descending(arr):\n",
    "    n=len(arr)\n",
    "\n",
    "    for i in range(n-1):\n",
    "        for j in range(n-i-1):\n",
    "            if arr[j]<arr[j+1]:\n",
    "                arr[j],arr[j+1]=arr[j+1],arr[j]\n",
    "    return arr"
   ]
  },
  {
   "cell_type": "code",
   "execution_count": 77,
   "id": "147003e7",
   "metadata": {},
   "outputs": [
    {
     "name": "stdout",
     "output_type": "stream",
     "text": [
      "Descending order sorted array is:  [15, 10, 9, 6, 3, 2, 0]\n"
     ]
    }
   ],
   "source": [
    "arr=[9,2,6,10,0,3,15]\n",
    "output = bubble_sort_descending(arr)\n",
    "print(\"Descending order sorted array is: \",output)"
   ]
  },
  {
   "cell_type": "markdown",
   "id": "fb2aed9c",
   "metadata": {},
   "source": [
    "# Task 2"
   ]
  },
  {
   "cell_type": "code",
   "execution_count": 78,
   "id": "bbfd3698",
   "metadata": {
    "scrolled": true
   },
   "outputs": [],
   "source": [
    "def bubble_sort(arr):\n",
    "    n=len(arr)\n",
    "\n",
    "    for i in range(n-1):\n",
    "        for j in range(n-i-1):\n",
    "            if arr[j]>arr[j+1]:\n",
    "                arr[j],arr[j+1]=arr[j+1],arr[j]\n",
    "                print(f\"Value swaped are {arr[j]} and {arr[j+1]}: {arr}\")\n",
    "    return arr"
   ]
  },
  {
   "cell_type": "code",
   "execution_count": 79,
   "id": "00395e3d",
   "metadata": {},
   "outputs": [
    {
     "name": "stdout",
     "output_type": "stream",
     "text": [
      "Value swaped are 2 and 9: [2, 9, 6, 10, 0, 3, 15]\n",
      "Value swaped are 6 and 9: [2, 6, 9, 10, 0, 3, 15]\n",
      "Value swaped are 0 and 10: [2, 6, 9, 0, 10, 3, 15]\n",
      "Value swaped are 3 and 10: [2, 6, 9, 0, 3, 10, 15]\n",
      "Value swaped are 0 and 9: [2, 6, 0, 9, 3, 10, 15]\n",
      "Value swaped are 3 and 9: [2, 6, 0, 3, 9, 10, 15]\n",
      "Value swaped are 0 and 6: [2, 0, 6, 3, 9, 10, 15]\n",
      "Value swaped are 3 and 6: [2, 0, 3, 6, 9, 10, 15]\n",
      "Value swaped are 0 and 2: [0, 2, 3, 6, 9, 10, 15]\n"
     ]
    },
    {
     "data": {
      "text/plain": [
       "[0, 2, 3, 6, 9, 10, 15]"
      ]
     },
     "execution_count": 79,
     "metadata": {},
     "output_type": "execute_result"
    }
   ],
   "source": [
    "arr=[9,2,6,10,0,3,15]\n",
    "bubble_sort(arr)"
   ]
  },
  {
   "cell_type": "markdown",
   "id": "ec628c33",
   "metadata": {},
   "source": [
    "#  Task 3"
   ]
  },
  {
   "cell_type": "code",
   "execution_count": 90,
   "id": "ac0bbbaf",
   "metadata": {},
   "outputs": [],
   "source": [
    "cmp=0\n",
    "swp=0\n",
    "def bubble_sort_check(arr):\n",
    "    cmp=0\n",
    "    swp=0\n",
    "    n=len(arr)\n",
    "\n",
    "    for i in range(n-1):\n",
    "        for j in range(n-i-1):\n",
    "            if arr[j]>arr[j+1]:\n",
    "                arr[j],arr[j+1]=arr[j+1],arr[j]\n",
    "                swp+=1\n",
    "            cmp+=1\n",
    "            \n",
    "    print(\"Swap count is: \", swp)\n",
    "    print(\"compare cout is: \", cmp)\n",
    "    return arr"
   ]
  },
  {
   "cell_type": "code",
   "execution_count": 91,
   "id": "4d1b0196",
   "metadata": {},
   "outputs": [
    {
     "name": "stdout",
     "output_type": "stream",
     "text": [
      "Swap count is:  9\n",
      "compare cout is:  21\n"
     ]
    },
    {
     "data": {
      "text/plain": [
       "[0, 2, 3, 6, 9, 10, 15]"
      ]
     },
     "execution_count": 91,
     "metadata": {},
     "output_type": "execute_result"
    }
   ],
   "source": [
    "arr=[9,2,6,10,0,3,15]\n",
    "bubble_sort_check(arr)"
   ]
  },
  {
   "cell_type": "markdown",
   "id": "cfaf9da3",
   "metadata": {},
   "source": [
    "# Task 4"
   ]
  },
  {
   "cell_type": "code",
   "execution_count": 88,
   "id": "804714f5",
   "metadata": {},
   "outputs": [],
   "source": [
    "def bubble_sorting(arr):\n",
    "    n=len(arr)\n",
    "    cmp=0\n",
    "    swp=0\n",
    "    \n",
    "    for i in range(n-1):\n",
    "        for j in range(n-i-1):\n",
    "            if arr[j]>arr[j+1]:\n",
    "                arr[j],arr[j+1]=arr[j+1],arr[j]\n",
    "                swp+=1\n",
    "            cmp+=1\n",
    "            \n",
    "    print(\"Swap count is: \", swp)\n",
    "    print(\"compare cout is: \", cmp)\n",
    "    \n",
    "    return arr"
   ]
  },
  {
   "cell_type": "code",
   "execution_count": 89,
   "id": "eef82530",
   "metadata": {},
   "outputs": [
    {
     "name": "stdout",
     "output_type": "stream",
     "text": [
      "Swap count is:  0\n",
      "compare cout is:  15\n",
      "Output of Sorted array:  [1, 2, 3, 4, 5, 6] \n",
      "\n",
      "Swap count is:  15\n",
      "compare cout is:  15\n",
      "Output of reverse Sorted array:  [1, 2, 3, 4, 5, 6] \n",
      "\n",
      "Swap count is:  9\n",
      "compare cout is:  15\n",
      "Output of random array:  [0, 2, 3, 6, 9, 10]\n"
     ]
    }
   ],
   "source": [
    "sorted_arr=[1,2,3,4,5,6]\n",
    "reverse_sorted_arr=[6,5,4,3,2,1]\n",
    "random_arr=[9,2,6,10,0,3]\n",
    "\n",
    "out1=bubble_sorting(sorted_arr)\n",
    "print(\"Output of Sorted array: \",out1, \"\\n\")\n",
    "\n",
    "out2=bubble_sorting(reverse_sorted_arr)\n",
    "print(\"Output of reverse Sorted array: \",out2, \"\\n\")\n",
    "\n",
    "out3=bubble_sorting(random_arr)\n",
    "print(\"Output of random array: \",out3)"
   ]
  },
  {
   "cell_type": "markdown",
   "id": "68974138",
   "metadata": {},
   "source": [
    "# Task 5"
   ]
  },
  {
   "cell_type": "code",
   "execution_count": 92,
   "id": "c140963f",
   "metadata": {},
   "outputs": [],
   "source": [
    "def bubble_sort_ascending(arr):\n",
    "    n=len(arr)\n",
    "\n",
    "    for i in range(n-1):\n",
    "        swapped=False\n",
    "        for j in range(n-i-1):\n",
    "            if arr[j]>arr[j+1]:\n",
    "                arr[j],arr[j+1]=arr[j+1],arr[j]\n",
    "                swapped=True\n",
    "        if not swapped:\n",
    "            break\n",
    "    return arr"
   ]
  },
  {
   "cell_type": "code",
   "execution_count": 93,
   "id": "fa71d832",
   "metadata": {},
   "outputs": [
    {
     "name": "stdout",
     "output_type": "stream",
     "text": [
      "Best case ascending order sorted array is:  [0, 2, 3, 6, 9, 10, 15]\n"
     ]
    }
   ],
   "source": [
    "arr=[9,2,6,10,0,3,15]\n",
    "output = bubble_sort_ascending(arr)\n",
    "print(\"Best case ascending order sorted array is: \",output)"
   ]
  },
  {
   "cell_type": "code",
   "execution_count": null,
   "id": "48d8481c",
   "metadata": {},
   "outputs": [],
   "source": []
  }
 ],
 "metadata": {
  "kernelspec": {
   "display_name": "Python 3 (ipykernel)",
   "language": "python",
   "name": "python3"
  },
  "language_info": {
   "codemirror_mode": {
    "name": "ipython",
    "version": 3
   },
   "file_extension": ".py",
   "mimetype": "text/x-python",
   "name": "python",
   "nbconvert_exporter": "python",
   "pygments_lexer": "ipython3",
   "version": "3.12.4"
  }
 },
 "nbformat": 4,
 "nbformat_minor": 5
}

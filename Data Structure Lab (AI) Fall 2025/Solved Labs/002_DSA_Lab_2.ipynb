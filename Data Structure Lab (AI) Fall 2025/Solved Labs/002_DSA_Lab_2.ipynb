{
 "cells": [
  {
   "cell_type": "code",
   "execution_count": 1,
   "id": "e40d0b88-02bd-4e40-addb-b8079a46fcf4",
   "metadata": {},
   "outputs": [
    {
     "name": "stdout",
     "output_type": "stream",
     "text": [
      "\n",
      "--- Train Station Menu ---\n",
      "1. Enter train arrival order\n",
      "2. Start train simulation\n",
      "3. Exit\n"
     ]
    },
    {
     "name": "stdin",
     "output_type": "stream",
     "text": [
      "Choose an option (1-3):  2\n"
     ]
    },
    {
     "name": "stdout",
     "output_type": "stream",
     "text": [
      "Please enter the arrival order of 5 trains first (choose option 1).\n",
      "\n",
      "--- Train Station Menu ---\n",
      "1. Enter train arrival order\n",
      "2. Start train simulation\n",
      "3. Exit\n"
     ]
    },
    {
     "name": "stdin",
     "output_type": "stream",
     "text": [
      "Choose an option (1-3):  1\n",
      "Enter ID for train 1:  1\n",
      "Enter ID for train 2:  5\n",
      "Enter ID for train 3:  3\n",
      "Enter ID for train 4:  4\n",
      "Enter ID for train 5:  2\n"
     ]
    },
    {
     "name": "stdout",
     "output_type": "stream",
     "text": [
      "\n",
      "--- Train Station Menu ---\n",
      "1. Enter train arrival order\n",
      "2. Start train simulation\n",
      "3. Exit\n"
     ]
    },
    {
     "name": "stdin",
     "output_type": "stream",
     "text": [
      "Choose an option (1-3):  2\n"
     ]
    },
    {
     "name": "stdout",
     "output_type": "stream",
     "text": [
      "Train 1 has arrived at the station.\n",
      "Train 5 has arrived at the station.\n",
      "Train 3 has arrived at the station.\n",
      "Train 4 has arrived at the station.\n",
      "Train 2 has arrived at the station.\n",
      "\n",
      "Starting the simulation...\n",
      "\n",
      "Train 1 has departed from the station.\n",
      "Train 5 moved to the sidetrack.\n",
      "Train 3 moved to the sidetrack.\n",
      "Train 4 moved to the sidetrack.\n",
      "Train 2 has departed from the station.\n",
      "\n",
      "The trains cannot be arranged in the correct order.\n",
      "\n",
      "Train 4 left the sidetrack and departed.\n",
      "Train 3 left the sidetrack and departed.\n",
      "Train 5 left the sidetrack and departed.\n",
      "\n",
      "--- Simulation Finished ---\n",
      "Trains that departed: [1, 2, 4, 3, 5]\n",
      "Trains that used the sidetrack: [4, 3, 5]\n",
      "Some trains couldn't be sorted properly.\n",
      "\n",
      "--- Train Station Menu ---\n",
      "1. Enter train arrival order\n",
      "2. Start train simulation\n",
      "3. Exit\n"
     ]
    },
    {
     "name": "stdin",
     "output_type": "stream",
     "text": [
      "Choose an option (1-3):  3\n"
     ]
    },
    {
     "name": "stdout",
     "output_type": "stream",
     "text": [
      "Exiting the program. Goodbye!\n"
     ]
    }
   ],
   "source": [
    "def enqueue(train):\n",
    "    queue.append(train)\n",
    "    print(f\"Train {train} has arrived at the station.\")\n",
    "\n",
    "def dequeue():\n",
    "    train = queue.pop(0)\n",
    "    departure_sequence.append(train)\n",
    "    print(f\"Train {train} has departed from the station.\")\n",
    "\n",
    "def push(train):\n",
    "    sidetrack.append(train)\n",
    "    print(f\"Train {train} moved to the sidetrack.\")\n",
    "\n",
    "def pop():\n",
    "    train = sidetrack.pop()\n",
    "    departure_sequence.append(train)\n",
    "    sidetrack_log.append(train)\n",
    "    print(f\"Train {train} left the sidetrack and departed.\")\n",
    "\n",
    "def run_simulation():\n",
    "    expected = 1\n",
    "    success = True\n",
    "\n",
    "    while queue or sidetrack:\n",
    "        if queue and queue[0] == expected:\n",
    "            dequeue()\n",
    "            expected += 1\n",
    "        elif sidetrack and sidetrack[-1] == expected:\n",
    "            pop()\n",
    "            expected += 1\n",
    "        elif queue:\n",
    "            push(queue.pop(0))\n",
    "        else:\n",
    "            success = False\n",
    "            print(\"\\nThe trains cannot be arranged in the correct order.\\n\")\n",
    "            break\n",
    "\n",
    "    while sidetrack:\n",
    "        pop()\n",
    "\n",
    "    print(\"\\n--- Simulation Finished ---\")\n",
    "    print(\"Trains that departed:\", departure_sequence)\n",
    "    print(\"Trains that used the sidetrack:\", sidetrack_log)\n",
    "\n",
    "    is_ordered = all(departure_sequence[i] > departure_sequence[i - 1] for i in range(1, len(departure_sequence)))\n",
    "\n",
    "    if success and is_ordered and len(departure_sequence) == 5:\n",
    "        print(\"All trains departed in the correct order!\")\n",
    "    else:\n",
    "        print(\"Some trains couldn't be sorted properly.\")\n",
    "\n",
    "train_input = []\n",
    "queue = []\n",
    "sidetrack = []\n",
    "departure_sequence = []\n",
    "sidetrack_log = []\n",
    "\n",
    "while True:\n",
    "    print(\"\\n--- Train Station Menu ---\")\n",
    "    print(\"1. Enter train arrival order\")\n",
    "    print(\"2. Start train simulation\")\n",
    "    print(\"3. Exit\")\n",
    "\n",
    "    choice = input(\"Choose an option (1-3): \")\n",
    "\n",
    "    if choice == \"1\":\n",
    "        train_input = []\n",
    "        while len(train_input) < 5:\n",
    "            try:\n",
    "                t = int(input(f\"Enter ID for train {len(train_input)+1}: \"))\n",
    "                if 1 <= t <= 5 and t not in train_input:\n",
    "                    train_input.append(t)\n",
    "                else:\n",
    "                    print(\"Please enter a number between 1 and 5.\")\n",
    "            except:\n",
    "                print(\"Invalid input. Please enter a number.\")\n",
    "\n",
    "    elif choice == \"2\":\n",
    "        if len(train_input) != 5:\n",
    "            print(\"Please enter the arrival order of 5 trains first.\")\n",
    "        else:\n",
    "            for t in train_input:\n",
    "                enqueue(t)\n",
    "            print(\"\\nStarting the simulation...\\n\")\n",
    "            run_simulation()\n",
    "\n",
    "    elif choice == \"3\":\n",
    "        print(\"Exiting the program. Goodbye!\")\n",
    "        break\n",
    "\n",
    "    else:\n",
    "        print(\"Invalid choice. Please enter between 1 and 3.\")"
   ]
  },
  {
   "cell_type": "code",
   "execution_count": null,
   "id": "7f423767-c7f2-4753-bc72-613c4ab39799",
   "metadata": {},
   "outputs": [],
   "source": []
  }
 ],
 "metadata": {
  "kernelspec": {
   "display_name": "Python 3 (ipykernel)",
   "language": "python",
   "name": "python3"
  },
  "language_info": {
   "codemirror_mode": {
    "name": "ipython",
    "version": 3
   },
   "file_extension": ".py",
   "mimetype": "text/x-python",
   "name": "python",
   "nbconvert_exporter": "python",
   "pygments_lexer": "ipython3",
   "version": "3.12.4"
  }
 },
 "nbformat": 4,
 "nbformat_minor": 5
}
